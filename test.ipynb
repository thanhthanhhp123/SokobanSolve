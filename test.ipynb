{
 "cells": [
  {
   "cell_type": "code",
   "execution_count": 63,
   "metadata": {},
   "outputs": [],
   "source": [
    "import gym\n",
    "import gym_sokoban\n",
    "import numpy as np\n",
    "import warnings\n",
    "import matplotlib.pyplot as plt\n",
    "from tqdm import tqdm\n",
    "from math import *\n",
    "import copy\n",
    "warnings.filterwarnings('ignore')"
   ]
  },
  {
   "cell_type": "code",
   "execution_count": 2,
   "metadata": {},
   "outputs": [],
   "source": [
    "env_name = \"Boxoban-Basic\"\n",
    "env = gym.make(env_name)"
   ]
  },
  {
   "cell_type": "code",
   "execution_count": 58,
   "metadata": {},
   "outputs": [
    {
     "data": {
      "text/plain": [
       "<matplotlib.image.AxesImage at 0x15241b650>"
      ]
     },
     "execution_count": 58,
     "metadata": {},
     "output_type": "execute_result"
    },
    {
     "data": {
      "image/png": "[encoded data removed]",
      "text/plain": [
       "<Figure size 640x480 with 1 Axes>"
      ]
     },
     "metadata": {},
     "output_type": "display_data"
    }
   ],
   "source": [
    "plt.imshow(env.reset())\n"
   ]
  },
  {
   "cell_type": "code",
   "execution_count": 65,
   "metadata": {},
   "outputs": [],
   "source": [
    "env_ = copy.copy(env)"
   ]
  },
  {
   "cell_type": "code",
   "execution_count": 4,
   "metadata": {},
   "outputs": [
    {
     "data": {
      "text/plain": [
       "array([[0, 0, 0, 0, 0, 0, 0, 0, 0, 0],\n",
       "       [0, 0, 0, 0, 0, 0, 0, 0, 0, 0],\n",
       "       [0, 0, 0, 0, 0, 0, 0, 0, 0, 0],\n",
       "       [0, 0, 0, 0, 0, 0, 0, 0, 0, 0],\n",
       "       [0, 5, 1, 1, 4, 1, 1, 1, 2, 0],\n",
       "       [0, 0, 0, 0, 0, 0, 0, 0, 0, 0],\n",
       "       [0, 0, 0, 0, 0, 0, 0, 0, 0, 0],\n",
       "       [0, 0, 0, 0, 0, 0, 0, 0, 0, 0],\n",
       "       [0, 0, 0, 0, 0, 0, 0, 0, 0, 0],\n",
       "       [0, 0, 0, 0, 0, 0, 0, 0, 0, 0]])"
      ]
     },
     "execution_count": 4,
     "metadata": {},
     "output_type": "execute_result"
    }
   ],
   "source": [
    "env.room_state"
   ]
  },
  {
   "cell_type": "code",
   "execution_count": 5,
   "metadata": {},
   "outputs": [
    {
     "data": {
      "text/plain": [
       "5"
      ]
     },
     "execution_count": 5,
     "metadata": {},
     "output_type": "execute_result"
    }
   ],
   "source": [
    "env.action_space.n"
   ]
  },
  {
   "cell_type": "code",
   "execution_count": 37,
   "metadata": {},
   "outputs": [],
   "source": [
    "def calc_reward():\n",
    "        \"\"\"\n",
    "        Calculate Reward Based on\n",
    "        :return:\n",
    "        \"\"\"\n",
    "        # Every step a small penalty is given, This ensures\n",
    "        # that short solutions have a higher reward.\n",
    "        penalty_for_step = -0.1\n",
    "        room_state = env.room_state\n",
    "        room_fixed = env.room_fixed\n",
    "        num_boxes = 1\n",
    "        reward_box_on_target = 1\n",
    "        penalty_box_off_target = -1\n",
    "        reward_finished = 10\n",
    "        reward_last = penalty_for_step\n",
    "        boxes_on_target = np.where(env.room_state == 3)[0].shape[0]\n",
    "        # count boxes off or on the target\n",
    "        empty_targets = room_state == 2\n",
    "        player_on_target = (room_fixed == 2) & (room_state == 5)\n",
    "        total_targets = empty_targets | player_on_target\n",
    "\n",
    "        current_boxes_on_target = num_boxes - \\\n",
    "                                  np.where(total_targets)[0].shape[0]\n",
    "\n",
    "        # Add the reward if a box is pushed on the target and give a\n",
    "        # penalty if a box is pushed off the target.\n",
    "        if current_boxes_on_target > boxes_on_target:\n",
    "            reward_last += reward_box_on_target\n",
    "        elif current_boxes_on_target < boxes_on_target:\n",
    "            reward_last += penalty_box_off_target\n",
    "        \n",
    "        game_won = env.check_if_all_boxes_on_target()        \n",
    "        if game_won:\n",
    "            reward_last += reward_finished\n",
    "        \n",
    "        boxes_on_target = current_boxes_on_target\n",
    "        return reward_last\n"
   ]
  },
  {
   "cell_type": "code",
   "execution_count": 57,
   "metadata": {},
   "outputs": [
    {
     "data": {
      "text/plain": [
       "9.9"
      ]
     },
     "execution_count": 57,
     "metadata": {},
     "output_type": "execute_result"
    }
   ],
   "source": [
    "calc_reward()"
   ]
  },
  {
   "cell_type": "code",
   "execution_count": 61,
   "metadata": {},
   "outputs": [
    {
     "data": {
      "text/plain": [
       "(8, 5, 8)"
      ]
     },
     "execution_count": 61,
     "metadata": {},
     "output_type": "execute_result"
    }
   ],
   "source": [
    "R.shape"
   ]
  },
  {
   "cell_type": "code",
   "execution_count": 6,
   "metadata": {},
   "outputs": [],
   "source": [
    "availabel_states = []\n",
    "for i in range(10):\n",
    "    for j in range(10):\n",
    "        if env.room_state[i][j] != 0:\n",
    "            availabel_states.append((i, j))\n",
    "CHANGE_COORDINATES = {\n",
    "    0: (0, 0),\n",
    "    1: (-1, 0),\n",
    "    2: (1, 0),\n",
    "    3: (0, -1),\n",
    "    4: (0, 1)\n",
    "}\n",
    "def get_next_state(state):\n",
    "    new_states = []\n",
    "    for i in CHANGE_COORDINATES.values():\n",
    "        state_ = state + np.array(i)\n",
    "        if tuple(state_) in availabel_states:\n",
    "            new_states.append(state_)\n",
    "    return new_states"
   ]
  },
  {
   "cell_type": "code",
   "execution_count": 7,
   "metadata": {},
   "outputs": [
    {
     "data": {
      "text/plain": [
       "tuple"
      ]
     },
     "execution_count": 7,
     "metadata": {},
     "output_type": "execute_result"
    }
   ],
   "source": [
    "type(availabel_states[0])"
   ]
  },
  {
   "cell_type": "code",
   "execution_count": 8,
   "metadata": {},
   "outputs": [
    {
     "data": {
      "text/plain": [
       "[array([4, 2]), array([4, 1]), array([4, 3])]"
      ]
     },
     "execution_count": 8,
     "metadata": {},
     "output_type": "execute_result"
    }
   ],
   "source": [
    "get_next_state([4,2])"
   ]
  },
  {
   "cell_type": "code",
   "execution_count": 9,
   "metadata": {},
   "outputs": [
    {
     "data": {
      "text/plain": [
       "3"
      ]
     },
     "execution_count": 9,
     "metadata": {},
     "output_type": "execute_result"
    }
   ],
   "source": [
    "len(get_next_state([4,2]))"
   ]
  },
  {
   "cell_type": "code",
   "execution_count": 10,
   "metadata": {},
   "outputs": [],
   "source": [
    "def create_transition_pos(env):\n",
    "    P = {}\n",
    "    for state in availabel_states:\n",
    "        for action in range(5):\n",
    "            next_states = get_next_state(state)\n",
    "            num_next_states = len(next_states)\n",
    "            prob = [1/ num_next_states] * num_next_states\n",
    "            P[(state, action)] = list(zip(next_states, prob))\n",
    "    return P"
   ]
  },
  {
   "cell_type": "code",
   "execution_count": null,
   "metadata": {},
   "outputs": [],
   "source": []
  },
  {
   "cell_type": "code",
   "execution_count": 11,
   "metadata": {},
   "outputs": [],
   "source": [
    "def calculate_num_states(map):\n",
    "    num_player_positions = np.count_nonzero(map != 0)\n",
    "    num_box = np.count_nonzero(map == 2)\n",
    "    num_box_positions = factorial(num_player_positions) / (factorial(num_box) * factorial(num_player_positions - num_box))\n",
    "    num_states = num_box_positions * num_player_positions\n",
    "    return int(num_states)"
   ]
  },
  {
   "cell_type": "code",
   "execution_count": 12,
   "metadata": {},
   "outputs": [
    {
     "data": {
      "text/plain": [
       "64"
      ]
     },
     "execution_count": 12,
     "metadata": {},
     "output_type": "execute_result"
    }
   ],
   "source": [
    "calculate_num_states(env.room_state)"
   ]
  },
  {
   "cell_type": "code",
   "execution_count": 13,
   "metadata": {},
   "outputs": [],
   "source": [
    "def init_Qtable(n_states, n_actions):\n",
    "    \"\"\"Initializes the Q-table.\n",
    "    \n",
    "    Args:\n",
    "        n_states: The number of states in the environment.\n",
    "        n_actions: The number of actions in the environment.\n",
    "    \n",
    "    Returns:\n",
    "        A numpy array of size [n_states, n_actions] containing all zeros.\n",
    "    \"\"\"\n",
    "    return np.zeros((n_states, n_actions))"
   ]
  },
  {
   "cell_type": "code",
   "execution_count": 14,
   "metadata": {},
   "outputs": [],
   "source": [
    "def greedy_policy(Qtable, state):\n",
    "    action = np.argmax(Qtable[state][:])\n",
    "    return action"
   ]
  },
  {
   "cell_type": "code",
   "execution_count": 15,
   "metadata": {},
   "outputs": [],
   "source": [
    "def epsilon_greedy_policy(Qtable, state, epsilon):\n",
    "    if np.random.random() < epsilon:\n",
    "        action = env.action_space.sample()\n",
    "    else:\n",
    "        action = greedy_policy(Qtable, state)\n",
    "    return action"
   ]
  },
  {
   "cell_type": "code",
   "execution_count": 16,
   "metadata": {},
   "outputs": [],
   "source": [
    "#Training parameters\n",
    "n_training_episodes = 10000\n",
    "lr = 0.7\n",
    "\n",
    "#Evaluation parameters\n",
    "n_eval_episodes = 100\n",
    "\n",
    "#Env parameters\n",
    "# env_id = \"Sokoban-v0\"\n",
    "max_steps = 1000\n",
    "gamma = 0.95\n",
    "eval_seed = []\n",
    "\n",
    "max_epsilon = 1.0\n",
    "min_epsilon = 0.05\n",
    "decay_rate = 0.0005"
   ]
  },
  {
   "cell_type": "code",
   "execution_count": 17,
   "metadata": {},
   "outputs": [],
   "source": [
    "def train(n_training_episodes, min_epsilon, max_epsilon, decay_rate, env, max_steps, Qtable):\n",
    "    for episode in tqdm(range(n_training_episodes)):\n",
    "        epsilon = min_epsilon + (max_epsilon - min_epsilon) * np.exp(-decay_rate * episode)\n",
    "        state = env.reset()\n",
    "        done = False\n",
    "        step = 0\n",
    "\n",
    "        for step in range(max_steps):\n",
    "            action = epsilon_greedy_policy(Qtable, state, epsilon)\n",
    "\n",
    "            new_state, reward, done, info = env.step(action)\n",
    "\n",
    "            Qtable[state][action] = Qtable[state][action] + lr * (reward + gamma * np.max(Qtable[new_state][:]) - Qtable[state][action])\n",
    "            if done:\n",
    "                break\n",
    "            state = new_state\n",
    "    return Qtable"
   ]
  },
  {
   "cell_type": "code",
   "execution_count": 18,
   "metadata": {},
   "outputs": [],
   "source": [
    "def policy_evaluation(policy, S):\n",
    "    V = {s: 0 for s in S}\n",
    "    while True:\n",
    "        oldV = V.copy()\n",
    "        \n",
    "        for s in S:\n",
    "            a = policy[s]\n",
    "            V[s] = R(s, a) + sum(P(s_next, s, a) * oldV[s_next] \n",
    "                                 for s_next in S)\n",
    "        if all(oldV[s] == V[s] for s in S):\n",
    "            break\n",
    "    return V"
   ]
  },
  {
   "cell_type": "code",
   "execution_count": null,
   "metadata": {},
   "outputs": [],
   "source": [
    "def policy_improvement(V, S, A):\n",
    "    policy = {s: A[0] for s in S}\n",
    "\n",
    "    for s in S:\n",
    "        Q = {}\n",
    "        for a in A:\n",
    "            Q[a] = R(s, a) + sum(P(s_next, s, a) * V[s_next] \n",
    "                                 for s_next in S)\n",
    "        policy[s] = max(Q, key=Q.get)\n",
    "    return policy"
   ]
  },
  {
   "cell_type": "code",
   "execution_count": null,
   "metadata": {},
   "outputs": [],
   "source": [
    "def policy_iterations(S, A, P, R):\n",
    "    \"\"\"\n",
    "    :param list S: set of states\n",
    "    :param list A: set of actions\n",
    "    :param dict P: transition function P(s'|s,a)\n",
    "    :param dict R: reward function R(s,a,s')\n",
    "    \"\"\"\n",
    "    policy = {s: A[0] for s in S}\n",
    "    while True:\n",
    "        old_policy = policy.copy()\n",
    "\n",
    "        V = policy_evaluation(policy, S)\n",
    "        policy = policy_improvement(V, S, A)\n",
    "\n",
    "        if all(old_policy[s] == policy[s] for s in S):\n",
    "            break\n",
    "    return policy"
   ]
  }
 ],
 "metadata": {
  "kernelspec": {
   "display_name": "base",
   "language": "python",
   "name": "python3"
  },
  "language_info": {
   "codemirror_mode": {
    "name": "ipython",
    "version": 3
   },
   "file_extension": ".py",
   "mimetype": "text/x-python",
   "name": "python",
   "nbconvert_exporter": "python",
   "pygments_lexer": "ipython3",
   "version": "3.11.5"
  },
  "orig_nbformat": 4
 },
 "nbformat": 4,
 "nbformat_minor": 2
}
